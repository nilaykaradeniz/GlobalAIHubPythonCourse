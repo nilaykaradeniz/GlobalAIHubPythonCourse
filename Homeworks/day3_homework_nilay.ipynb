{
  "nbformat": 4,
  "nbformat_minor": 0,
  "metadata": {
    "colab": {
      "name": "day3_homework_nilay.ipynb",
      "provenance": []
    },
    "kernelspec": {
      "name": "python3",
      "display_name": "Python 3"
    },
    "language_info": {
      "name": "python"
    }
  },
  "cells": [
    {
      "cell_type": "code",
      "metadata": {
        "colab": {
          "base_uri": "https://localhost:8080/"
        },
        "id": "PyFSAxxDFniQ",
        "outputId": "41daf248-7f5f-4700-d7a2-9e3b253c1296"
      },
      "source": [
        "user = input(\"Kullanici adinizi giriniz : \")\n",
        "userList = [\"Nilay\",\"Gulbuke\"]\n",
        "pswList = [\"Abc123\",\"Def456\"]\n",
        "while True:\n",
        "  if user in userList:\n",
        "    psw = input(\"Parolanizi giriniz :\")\n",
        "    if psw in pswList and userList.index(user)==pswList.index(psw):\n",
        "      print(\"Basarili giris yaptiniz...\")\n",
        "      break\n",
        "    else:\n",
        "      print(\"Parolaniz yanlis. Tekrar parolanizi giriniz\")\n",
        "  else:      \n",
        "     print(\"Kullanici adiniz yanlis.\")\n",
        "     user = input(\"Kullanici adinizi giriniz : \")"
      ],
      "execution_count": 2,
      "outputs": [
        {
          "output_type": "stream",
          "text": [
            "Kullanici adinizi giriniz : Nilay\n",
            "Parolanizi giriniz :Def456\n",
            "Parolaniz yanlis. Tekrar parolanizi giriniz\n",
            "Parolanizi giriniz :Gulbuke\n",
            "Parolaniz yanlis. Tekrar parolanizi giriniz\n",
            "Parolanizi giriniz :Abc123\n",
            "Basarili giris yaptiniz...\n"
          ],
          "name": "stdout"
        }
      ]
    },
    {
      "cell_type": "code",
      "metadata": {
        "colab": {
          "base_uri": "https://localhost:8080/"
        },
        "id": "RASLwG9pGdPr",
        "outputId": "05871948-702e-4fea-9c98-48b067313960"
      },
      "source": [
        "#dict'li versiyon\n",
        "user = input(\"Kullanici adinizi giriniz : \")\n",
        "myDict={\"user\":[\"Nilay\",\"Gulbuke\"], \"psw\":[\"A\",\"B\"]}\n",
        "while True:\n",
        "  if user in myDict[\"user\"]:\n",
        "    psw = input(\"Parolanizi giriniz :\")\n",
        "    if psw in myDict[\"psw\"] and myDict[\"user\"].index(user)==myDict[\"psw\"].index(psw):\n",
        "      print(\"Basarili giris yaptiniz...\")\n",
        "      break\n",
        "    else:\n",
        "      print(\"Parolaniz yanlis. Tekrar parolanizi giriniz\")\n",
        "  else:      \n",
        "    print(\"Kullanici adiniz yanlis.\")\n",
        "    Username = input(\"Kullanici adinizi giriniz : \")"
      ],
      "execution_count": 4,
      "outputs": [
        {
          "output_type": "stream",
          "text": [
            "Kullanici adinizi giriniz : Nilay\n",
            "Parolanizi giriniz :G\n",
            "Parolaniz yanlis. Tekrar parolanizi giriniz\n",
            "Parolanizi giriniz :A\n",
            "Basarili giris yaptiniz...\n"
          ],
          "name": "stdout"
        }
      ]
    }
  ]
}