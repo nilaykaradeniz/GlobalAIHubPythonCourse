{
  "nbformat": 4,
  "nbformat_minor": 0,
  "metadata": {
    "colab": {
      "name": "day2_homework_nilay.ipynb",
      "provenance": [],
      "collapsed_sections": []
    },
    "kernelspec": {
      "name": "python3",
      "display_name": "Python 3"
    },
    "language_info": {
      "name": "python"
    }
  },
  "cells": [
    {
      "cell_type": "code",
      "metadata": {
        "colab": {
          "base_uri": "https://localhost:8080/"
        },
        "id": "mM6XCxO6DCci",
        "outputId": "f6f592e1-d859-4e4d-f714-cc8b57e25616"
      },
      "source": [
        "#ödev1.1 \n",
        "List=(1,2,3,4,5,6,7,8,9,10)\n",
        "LenList = len(List)\n",
        "HalfList = int(len(List)/2)\n",
        "Son = []\n",
        "\n",
        "for j in range(HalfList+1,LenList+1):\n",
        "  Son.append(j)\n",
        "for k in range(1,HalfList+1):\n",
        "  Son.append(k)\n",
        "print(Son)"
      ],
      "execution_count": null,
      "outputs": [
        {
          "output_type": "stream",
          "text": [
            "[6, 7, 8, 9, 10, 1, 2, 3, 4, 5]\n"
          ],
          "name": "stdout"
        }
      ]
    },
    {
      "cell_type": "code",
      "metadata": {
        "colab": {
          "base_uri": "https://localhost:8080/"
        },
        "id": "3XNHhx5LDSVW",
        "outputId": "7205f1f7-1b89-4f35-f854-beea181e3a5d"
      },
      "source": [
        "#ödev1.1 2. versiyon\n",
        "number = int(input(\"Give me even number:\"))\n",
        "List=[]\n",
        "for i in range(1,number+2):\n",
        "  List.append(i)\n",
        "LenList = len(List)\n",
        "HalfList = int(len(List)/2)\n",
        "Son = []\n",
        "\n",
        "for j in range(HalfList+1,LenList):\n",
        "  Son.append(j)\n",
        "for k in range(1,HalfList+1):\n",
        "  Son.append(k)\n",
        "print(Son)"
      ],
      "execution_count": null,
      "outputs": [
        {
          "output_type": "stream",
          "text": [
            "Give me even number:16\n",
            "[9, 10, 11, 12, 13, 14, 15, 16, 1, 2, 3, 4, 5, 6, 7, 8]\n"
          ],
          "name": "stdout"
        }
      ]
    },
    {
      "cell_type": "code",
      "metadata": {
        "colab": {
          "base_uri": "https://localhost:8080/"
        },
        "id": "VRRwjUd1Dn3y",
        "outputId": "ee94e1e7-3093-4d82-a574-8285acc5b64b"
      },
      "source": [
        "#ödev1.2\n",
        "sayi=int(input(\"Bir tam sayi giriniz: \"))\n",
        "for i in range(sayi+1):\n",
        "  if i%2==0:\n",
        "    print(i)"
      ],
      "execution_count": null,
      "outputs": [
        {
          "output_type": "stream",
          "text": [
            "Bir tam sayi giriniz: 15\n",
            "0\n",
            "2\n",
            "4\n",
            "6\n",
            "8\n",
            "10\n",
            "12\n",
            "14\n"
          ],
          "name": "stdout"
        }
      ]
    }
  ]
}