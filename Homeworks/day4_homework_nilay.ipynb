{
  "nbformat": 4,
  "nbformat_minor": 0,
  "metadata": {
    "colab": {
      "name": "day4_homework_nilay.ipynb",
      "provenance": []
    },
    "kernelspec": {
      "name": "python3",
      "display_name": "Python 3"
    },
    "language_info": {
      "name": "python"
    }
  },
  "cells": [
    {
      "cell_type": "code",
      "metadata": {
        "colab": {
          "base_uri": "https://localhost:8080/"
        },
        "id": "mSkT1BD7HfBA",
        "outputId": "cdd7090d-3780-4d55-fe66-09a4e226b5a4"
      },
      "source": [
        "Grade = {\"StudentList\":['Nilay', 'Yıldıray', 'Gülbüke','Berktuğ','Ayşe'],\n",
        "     \"midterm\": [],\n",
        "     \"project\": [],\n",
        "     \"final\":   [],\n",
        "     \"passingGrade\": []}\n",
        "\n",
        "input_mid = input(\"Enter 5 students midterm exam with space: \")\n",
        "midterm = input_mid.split(\" \")\n",
        "\n",
        "for i in midterm:\n",
        "    Grade[\"midterm\"].append(int(i)) \n",
        "\n",
        "input_pro = input(\"Enter 5 students project notes with space: \")\n",
        "project = input_pro.split(\" \")\n",
        "\n",
        "for i in project:\n",
        "    Grade[\"project\"].append(int(i)) \n",
        "\n",
        "input_final = input(\"Enter 5 students final exam with space: \")\n",
        "final = input_final.split(\" \")\n",
        "\n",
        "for i in final:\n",
        "    Grade[\"final\"].append(int(i)) \n",
        "\n",
        "for i in range(len(Grade[\"StudentList\"])):\n",
        "  a =  Grade[\"midterm\"][i]*0.3 + Grade[\"project\"][i]*0.3 + Grade[\"final\"][i]*0.4\n",
        "  Grade[\"passingGrade\"].append(a) \n",
        "\n",
        "import pandas as pd\n",
        "Grade2=pd.DataFrame(Grade)\n",
        "Grade2 = Grade2.sort_values(by=['passingGrade'], ascending=False)\n",
        "Grade3 = dict(Grade2)\n",
        "print(Grade3)"
      ],
      "execution_count": 5,
      "outputs": [
        {
          "output_type": "stream",
          "text": [
            "Enter 5 students midterm exam with space: 4 4 7 78 45\n",
            "Enter 5 students project notes with space: 5 67 67 45 56\n",
            "Enter 5 students final exam with space: 45 45 67 45 56\n",
            "{'StudentList': 3     Berktuğ\n",
            "4        Ayşe\n",
            "2     Gülbüke\n",
            "1    Yıldıray\n",
            "0       Nilay\n",
            "Name: StudentList, dtype: object, 'midterm': 3    78\n",
            "4    45\n",
            "2     7\n",
            "1     4\n",
            "0     4\n",
            "Name: midterm, dtype: int64, 'project': 3    45\n",
            "4    56\n",
            "2    67\n",
            "1    67\n",
            "0     5\n",
            "Name: project, dtype: int64, 'final': 3    45\n",
            "4    56\n",
            "2    67\n",
            "1    45\n",
            "0    45\n",
            "Name: final, dtype: int64, 'passingGrade': 3    54.9\n",
            "4    52.7\n",
            "2    49.0\n",
            "1    39.3\n",
            "0    20.7\n",
            "Name: passingGrade, dtype: float64}\n"
          ],
          "name": "stdout"
        }
      ]
    }
  ]
}