{
  "nbformat": 4,
  "nbformat_minor": 0,
  "metadata": {
    "colab": {
      "name": "finalproject_nilay.ipynb",
      "provenance": []
    },
    "kernelspec": {
      "name": "python3",
      "display_name": "Python 3"
    },
    "language_info": {
      "name": "python"
    }
  },
  "cells": [
    {
      "cell_type": "code",
      "metadata": {
        "colab": {
          "base_uri": "https://localhost:8080/"
        },
        "id": "kBWEr9xLJcx1",
        "outputId": "2ef864d0-4dfa-4979-a60d-f6bb161af89a"
      },
      "source": [
        "myDict={\"question\" : [\"pi sayisini virgulden sonra iki dijit olacak sekilde yaziniz: \",\"Atatürk kac yilinda dogmustur? : \",\n",
        "                      \"Atatürk Kurtulus Savasi'ni hangi ile gelerek baslatmistir ? : \",\"Cumhuriyet hangi yılda kurulmustur? :\" ,\n",
        "                      \"Galatasarayın kurulus tarihi hangi yildir? :\",\"Ingilterenin baskenti neresidir? : \",\"Dolar hangi ulkenin para birimidir? : \",\n",
        "                      \"En uzun sınıra sahip oldugumuz komsumuz hangi ulkedir? : \",\"Dunyada kac kıta vardır? : \",\"Samanyolunda kac gezegen vardir? : \"], \n",
        "        \"answer\":[\"3.14\",\"1881\",\"Samsun\",\"1923\",\"1905\",\"Londra\",\"Amerika\",\"Suriye\",\"7\",\"8\"]}\n",
        "counter=0\n",
        "for i in range(len(myDict[\"question\"])):\n",
        "  q=input(myDict[\"question\"][i])\n",
        "  q=q.capitalize()\n",
        "  if q==myDict[\"answer\"][i]:\n",
        "    counter+=1\n",
        "    print(counter)\n",
        "  else:\n",
        "    print(counter)\n",
        "if counter>5:\n",
        "  print(\"You passed!\"+str(counter)+\" right answer\")\n",
        "else:\n",
        "  print(\"You couldn't pass. Lower than 5 answer\")"
      ],
      "execution_count": 1,
      "outputs": [
        {
          "output_type": "stream",
          "text": [
            "pi sayisini virgulden sonra iki dijit olacak sekilde yaziniz: 3.14\n",
            "1\n",
            "Atatürk kac yilinda dogmustur? : 1881\n",
            "2\n",
            "Atatürk Kurtulus Savasi'ni hangi ile gelerek baslatmistir ? : samsun\n",
            "3\n",
            "Cumhuriyet hangi yılda kurulmustur? :1923\n",
            "4\n",
            "Galatasarayın kurulus tarihi hangi yildir? :232233\n",
            "4\n",
            "Ingilterenin baskenti neresidir? : 23sdaas\n",
            "4\n",
            "Dolar hangi ulkenin para birimidir? : amerika\n",
            "5\n",
            "En uzun sınıra sahip oldugumuz komsumuz hangi ulkedir? : Suriye\n",
            "6\n",
            "Dunyada kac kıta vardır? : 7\n",
            "7\n",
            "Samanyolunda kac gezegen vardir? : 8\n",
            "8\n",
            "You passed!8 right answer\n"
          ],
          "name": "stdout"
        }
      ]
    }
  ]
}